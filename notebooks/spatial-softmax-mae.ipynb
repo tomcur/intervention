{
 "cells": [
  {
   "cell_type": "code",
   "execution_count": 1,
   "metadata": {},
   "outputs": [],
   "source": [
    "import torch\n",
    "from torch.nn.functional import softmax\n",
    "import matplotlib.pyplot as plt\n",
    "%matplotlib inline"
   ]
  },
  {
   "cell_type": "code",
   "execution_count": 2,
   "metadata": {},
   "outputs": [
    {
     "data": {
      "text/plain": [
       "tensor([[ 0.4102, -0.8585, -0.5587, -0.1137, -0.3600],\n",
       "        [ 1.3583,  0.2842,  0.3305, -0.8058,  0.8865],\n",
       "        [-1.1606, -0.0615, -0.4173,  0.9693, -1.4647],\n",
       "        [ 0.3077, -0.6451,  0.6727, -0.8882, -1.3508],\n",
       "        [-1.3962,  0.8716, -0.5785, -1.0363, -0.4169]], requires_grad=True)"
      ]
     },
     "execution_count": 2,
     "metadata": {},
     "output_type": "execute_result"
    }
   ],
   "source": [
    "tensor = torch.randn((5, 5),requires_grad=True)\n",
    "tensor"
   ]
  },
  {
   "cell_type": "code",
   "execution_count": 3,
   "metadata": {},
   "outputs": [
    {
     "data": {
      "text/plain": [
       "(tensor([[0.0556, 0.0156, 0.0211, 0.0330, 0.0258],\n",
       "         [0.1436, 0.0491, 0.0514, 0.0165, 0.0896],\n",
       "         [0.0116, 0.0347, 0.0243, 0.0973, 0.0085],\n",
       "         [0.0502, 0.0194, 0.0724, 0.0152, 0.0096],\n",
       "         [0.0091, 0.0883, 0.0207, 0.0131, 0.0243]], grad_fn=<ViewBackward>),\n",
       " tensor(1.7432, grad_fn=<SumBackward0>),\n",
       " tensor(1.8254, grad_fn=<SumBackward0>))"
      ]
     },
     "execution_count": 3,
     "metadata": {},
     "output_type": "execute_result"
    }
   ],
   "source": [
    "def spatial_softmax2d(tensor):\n",
    "    p = torch.reshape(softmax(torch.reshape(tensor, (-1,)), dim=0), tensor.shape)\n",
    "    grid_y, grid_x = torch.meshgrid(torch.arange(0, tensor.shape[0]), torch.arange(0, tensor.shape[1]))\n",
    "    x = torch.sum(grid_x.float() * p)\n",
    "    y = torch.sum(grid_y.float() * p)\n",
    "    return p, x, y\n",
    "\n",
    "p, x, y = spatial_softmax2d(tensor)\n",
    "p, x, y"
   ]
  },
  {
   "cell_type": "code",
   "execution_count": 4,
   "metadata": {},
   "outputs": [
    {
     "data": {
      "text/plain": [
       "(tensor(3.7477), tensor(1.4741))"
      ]
     },
     "execution_count": 4,
     "metadata": {},
     "output_type": "execute_result"
    }
   ],
   "source": [
    "# notice that you need prob dist with dim + 1 to express coordinates 0..dim.\n",
    "target_x, target_y = torch.rand(2) * (torch.tensor(tensor.shape, dtype=torch.float) - 1)\n",
    "target_x, target_y"
   ]
  },
  {
   "cell_type": "code",
   "execution_count": 5,
   "metadata": {},
   "outputs": [
    {
     "data": {
      "image/png": "[encoded data removed]",
      "text/plain": [
       "<Figure size 432x288 with 2 Axes>"
      ]
     },
     "metadata": {
      "needs_background": "light"
     },
     "output_type": "display_data"
    }
   ],
   "source": [
    "def plot_figure(p, predictions, target_x, target_y):\n",
    "    xs = [x.detach().numpy() for (x, y) in predictions]\n",
    "    ys = [y.detach().numpy() for (x, y) in predictions]\n",
    "\n",
    "    plt.imshow(p.detach().numpy(), cmap='viridis', extent=(-0.5, p.shape[1] - 0.5, p.shape[0] - 0.5, -0.5))\n",
    "    plt.colorbar()\n",
    "    plt.plot(xs, ys, 'co')    \n",
    "    plt.plot(target_x.detach().numpy(), target_y.detach().numpy(), 'ro')\n",
    "    plt.legend(['predicted', 'target'], loc='upper left', bbox_to_anchor=(1.3, 1))\n",
    "    plt.show()\n",
    "    \n",
    "plot_figure(p, [(x, y)], target_x, target_y)"
   ]
  },
  {
   "cell_type": "code",
   "execution_count": 6,
   "metadata": {},
   "outputs": [],
   "source": [
    "predictions = []"
   ]
  },
  {
   "cell_type": "markdown",
   "metadata": {},
   "source": [
    "# Run this multiple times with Ctrl+Enter\n",
    "To test the negative learning, set negative=True in gradient_step() call."
   ]
  },
  {
   "cell_type": "code",
   "execution_count": 7,
   "metadata": {},
   "outputs": [
    {
     "data": {
      "image/png": "[encoded data removed]",
      "text/plain": [
       "<Figure size 432x288 with 2 Axes>"
      ]
     },
     "metadata": {
      "needs_background": "light"
     },
     "output_type": "display_data"
    },
    {
     "data": {
      "text/plain": [
       "tensor(1.0214, grad_fn=<AddBackward0>)"
      ]
     },
     "execution_count": 7,
     "metadata": {},
     "output_type": "execute_result"
    }
   ],
   "source": [
    "def gradient_step(tensor, x, y, target_x, target_y, lr=0.5, negative=False):\n",
    "    loss = torch.abs(x - target_x) + torch.abs(y - target_y)\n",
    "    if negative:\n",
    "        loss = -loss\n",
    "    loss.backward()\n",
    "    with torch.no_grad():\n",
    "        tensor -= lr * tensor.grad\n",
    "        tensor.grad.zero_()\n",
    "    return loss\n",
    "\n",
    "for _ in range(10):\n",
    "    loss = gradient_step(tensor, x, y, target_x, target_y, negative=False)\n",
    "    p, x, y = spatial_softmax2d(tensor)\n",
    "    predictions.append((x, y))\n",
    "plot_figure(p, predictions, target_x, target_y)\n",
    "loss"
   ]
  },
  {
   "cell_type": "code",
   "execution_count": 8,
   "metadata": {},
   "outputs": [
    {
     "data": {
      "text/plain": [
       "tensor([[ 0.1787, -0.8584, -0.4578,  0.2358,  0.0643],\n",
       "        [ 0.5975,  0.1431,  0.4107, -0.7002,  2.9219],\n",
       "        [-1.2781, -0.2563, -0.4544,  1.3106, -1.3977],\n",
       "        [-0.2315, -0.8109,  0.3772, -0.8892, -1.3066],\n",
       "        [-1.5409,  0.1089, -0.7287, -1.0770, -0.3824]], requires_grad=True)"
      ]
     },
     "execution_count": 8,
     "metadata": {},
     "output_type": "execute_result"
    }
   ],
   "source": [
    "tensor"
   ]
  },
  {
   "cell_type": "code",
   "execution_count": null,
   "metadata": {},
   "outputs": [],
   "source": []
  }
 ],
 "metadata": {
  "kernelspec": {
   "display_name": "Python 3",
   "language": "python",
   "name": "python3"
  },
  "language_info": {
   "codemirror_mode": {
    "name": "ipython",
    "version": 3
   },
   "file_extension": ".py",
   "mimetype": "text/x-python",
   "name": "python",
   "nbconvert_exporter": "python",
   "pygments_lexer": "ipython3",
   "version": "3.7.9"
  }
 },
 "nbformat": 4,
 "nbformat_minor": 2
}
